{
  "nbformat": 4,
  "nbformat_minor": 0,
  "metadata": {
    "colab": {
      "provenance": []
    },
    "kernelspec": {
      "name": "python3",
      "display_name": "Python 3"
    },
    "language_info": {
      "name": "python"
    }
  },
  "cells": [
    {
      "cell_type": "code",
      "execution_count": null,
      "metadata": {
        "colab": {
          "base_uri": "https://localhost:8080/"
        },
        "id": "FrjzEYrhoT8o",
        "outputId": "91a6c2c1-576f-4776-999e-92b794b30588"
      },
      "outputs": [
        {
          "output_type": "stream",
          "name": "stdout",
          "text": [
            "True\n"
          ]
        }
      ],
      "source": [
        "#identity operator\n",
        "a=[1,2,3]\n",
        "b=[1,2,3] #mutabledatatype changes(delete,insert,change)\n",
        "print(a==b)"
      ]
    },
    {
      "cell_type": "code",
      "source": [
        "print(a is b)#memory address check"
      ],
      "metadata": {
        "colab": {
          "base_uri": "https://localhost:8080/"
        },
        "id": "rlAiOlDkocT0",
        "outputId": "fc062784-971b-4ca7-cc57-e841bdd0dd0a"
      },
      "execution_count": null,
      "outputs": [
        {
          "output_type": "stream",
          "name": "stdout",
          "text": [
            "False\n"
          ]
        }
      ]
    },
    {
      "cell_type": "code",
      "source": [
        "print(id(a))"
      ],
      "metadata": {
        "colab": {
          "base_uri": "https://localhost:8080/"
        },
        "id": "quUNSHozoeM8",
        "outputId": "86a5cb9b-2277-49c2-9828-04ee10fed681"
      },
      "execution_count": null,
      "outputs": [
        {
          "output_type": "stream",
          "name": "stdout",
          "text": [
            "134982994920000\n"
          ]
        }
      ]
    },
    {
      "cell_type": "code",
      "source": [
        "print(id(b))"
      ],
      "metadata": {
        "colab": {
          "base_uri": "https://localhost:8080/"
        },
        "id": "WDF1j-F1ohrc",
        "outputId": "b9d98f00-2a7f-4bb2-9514-5e66c753a519"
      },
      "execution_count": null,
      "outputs": [
        {
          "output_type": "stream",
          "name": "stdout",
          "text": [
            "134982994919808\n"
          ]
        }
      ]
    },
    {
      "cell_type": "code",
      "source": [
        "a=12#immutable datatype (mutable=changeable)\n",
        "b=12 #(immutable)\n",
        "print(a==b)\n",
        "print(a is b)\n"
      ],
      "metadata": {
        "colab": {
          "base_uri": "https://localhost:8080/"
        },
        "id": "nj9kqzSRokAk",
        "outputId": "d28258bb-ff60-4572-f68b-94f0aeabec7e"
      },
      "execution_count": null,
      "outputs": [
        {
          "output_type": "stream",
          "name": "stdout",
          "text": [
            "True\n",
            "True\n"
          ]
        }
      ]
    },
    {
      "cell_type": "code",
      "source": [
        "#bitwise operator\n",
        "a=8\n",
        "b=14\n",
        "print(a & b)\n",
        "print(a | b)\n",
        "print(a ^ b)"
      ],
      "metadata": {
        "colab": {
          "base_uri": "https://localhost:8080/"
        },
        "id": "jktf-L5VoooZ",
        "outputId": "a21caf2e-50cc-4414-c73a-584f792e1e37"
      },
      "execution_count": null,
      "outputs": [
        {
          "output_type": "stream",
          "name": "stdout",
          "text": [
            "8\n",
            "14\n",
            "6\n"
          ]
        }
      ]
    },
    {
      "cell_type": "code",
      "source": [
        " 1+5/5*6+4-7**2    #arithmetic operator(BODMAS)\n",
        "# (PEMDAS)\n",
        "# >>  PARENTHESES(BRACKET)\n",
        "# >>eXPONENT(**)\n",
        "# >>mULTIPLICATION YA DIVISION\n",
        "# >>ADDITION YA SUBST"
      ],
      "metadata": {
        "colab": {
          "base_uri": "https://localhost:8080/"
        },
        "id": "xHXzJZploq7B",
        "outputId": "bd13483d-f7e9-4cd3-cc52-82cbcae658fd"
      },
      "execution_count": null,
      "outputs": [
        {
          "output_type": "execute_result",
          "data": {
            "text/plain": [
              "-38.0"
            ]
          },
          "metadata": {},
          "execution_count": 10
        }
      ]
    },
    {
      "cell_type": "code",
      "source": [
        "username='Jyoti'\n",
        "m=f'Hello {username}'\n",
        "print(m)\n",
        "username='Anita'\n",
        "m=f'Hello {username}'\n"
      ],
      "metadata": {
        "colab": {
          "base_uri": "https://localhost:8080/"
        },
        "id": "VUrlld8Go-Qd",
        "outputId": "9da46f84-4d3a-4438-a6aa-eea6958b2467"
      },
      "execution_count": null,
      "outputs": [
        {
          "output_type": "stream",
          "name": "stdout",
          "text": [
            "Hello Jyoti\n"
          ]
        }
      ]
    },
    {
      "cell_type": "code",
      "source": [
        "#datatype\n",
        "#Numeric-int,float,complex\n",
        "#character-string,tuple,list\n",
        "#Boolean\n",
        "#set-set,frozenset\n",
        "#mapping-dictionary\n",
        "#none-None"
      ],
      "metadata": {
        "id": "6hyjlXsYpHlW"
      },
      "execution_count": null,
      "outputs": []
    }
  ]
}